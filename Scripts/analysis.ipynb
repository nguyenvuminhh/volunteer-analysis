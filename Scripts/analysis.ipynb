{
 "cells": [
  {
   "cell_type": "markdown",
   "metadata": {},
   "source": [
    "### Import and connect"
   ]
  },
  {
   "cell_type": "code",
   "execution_count": 1,
   "metadata": {},
   "outputs": [],
   "source": [
    "from sqlalchemy import create_engine\n",
    "import psycopg2\n",
    "import pandas as pd\n",
    "import numpy as np\n",
    "import seaborn as sb\n",
    "import matplotlib.pyplot as plt\n",
    "import warnings\n",
    "warnings.filterwarnings('ignore')"
   ]
  },
  {
   "cell_type": "code",
   "execution_count": 2,
   "metadata": {},
   "outputs": [],
   "source": [
    "DATABASE = 'group_8_2024'\n",
    "USER = 'group_8_2024' \n",
    "PASSWORD = '8Yy148rzOyOm'\n",
    "HOST = 'dbcourse.cs.aalto.fi'\n",
    "\n",
    "connection = psycopg2.connect (\n",
    "    database = DATABASE ,\n",
    "    user = USER ,\n",
    "    password = PASSWORD ,\n",
    "    host = HOST ,\n",
    "    port = '5432'\n",
    ")\n",
    "connection.autocommit = True\n",
    "cursor = connection.cursor()\n",
    "DIALECT = 'postgresql+psycopg2://'\n",
    "db_uri = \"%s:%s@%s/%s\" % (USER, PASSWORD, HOST, DATABASE)\n",
    "engine = create_engine(DIALECT + db_uri)\n",
    "psql_conn = engine.connect()"
   ]
  },
  {
   "cell_type": "code",
   "execution_count": 3,
   "metadata": {},
   "outputs": [],
   "source": [
    "psql_conn.rollback()"
   ]
  },
  {
   "cell_type": "markdown",
   "metadata": {},
   "source": [
    "## PART 1"
   ]
  },
  {
   "cell_type": "markdown",
   "metadata": {},
   "source": [
    "### Visualize the number of volunteers by city."
   ]
  },
  {
   "cell_type": "code",
   "execution_count": 4,
   "metadata": {},
   "outputs": [
    {
     "data": {
      "text/html": [
       "<div>\n",
       "<style scoped>\n",
       "    .dataframe tbody tr th:only-of-type {\n",
       "        vertical-align: middle;\n",
       "    }\n",
       "\n",
       "    .dataframe tbody tr th {\n",
       "        vertical-align: top;\n",
       "    }\n",
       "\n",
       "    .dataframe thead th {\n",
       "        text-align: right;\n",
       "    }\n",
       "</style>\n",
       "<table border=\"1\" class=\"dataframe\">\n",
       "  <thead>\n",
       "    <tr style=\"text-align: right;\">\n",
       "      <th></th>\n",
       "      <th>city_id</th>\n",
       "      <th>name</th>\n",
       "      <th>available_volunteer</th>\n",
       "      <th>applied_volunteer</th>\n",
       "    </tr>\n",
       "  </thead>\n",
       "  <tbody>\n",
       "    <tr>\n",
       "      <th>0</th>\n",
       "      <td>704</td>\n",
       "      <td>Rusko</td>\n",
       "      <td>63</td>\n",
       "      <td>182</td>\n",
       "    </tr>\n",
       "    <tr>\n",
       "      <th>1</th>\n",
       "      <td>72</td>\n",
       "      <td>Hailuoto</td>\n",
       "      <td>61</td>\n",
       "      <td>177</td>\n",
       "    </tr>\n",
       "    <tr>\n",
       "      <th>2</th>\n",
       "      <td>426</td>\n",
       "      <td>Liperi</td>\n",
       "      <td>55</td>\n",
       "      <td>169</td>\n",
       "    </tr>\n",
       "    <tr>\n",
       "      <th>3</th>\n",
       "      <td>886</td>\n",
       "      <td>Ulvila</td>\n",
       "      <td>59</td>\n",
       "      <td>177</td>\n",
       "    </tr>\n",
       "    <tr>\n",
       "      <th>4</th>\n",
       "      <td>834</td>\n",
       "      <td>Tammela</td>\n",
       "      <td>56</td>\n",
       "      <td>178</td>\n",
       "    </tr>\n",
       "    <tr>\n",
       "      <th>5</th>\n",
       "      <td>687</td>\n",
       "      <td>Rautavaara</td>\n",
       "      <td>55</td>\n",
       "      <td>181</td>\n",
       "    </tr>\n",
       "    <tr>\n",
       "      <th>6</th>\n",
       "      <td>504</td>\n",
       "      <td>Myrskylä</td>\n",
       "      <td>58</td>\n",
       "      <td>176</td>\n",
       "    </tr>\n",
       "    <tr>\n",
       "      <th>7</th>\n",
       "      <td>783</td>\n",
       "      <td>Säkylä</td>\n",
       "      <td>49</td>\n",
       "      <td>172</td>\n",
       "    </tr>\n",
       "  </tbody>\n",
       "</table>\n",
       "</div>"
      ],
      "text/plain": [
       "   city_id        name  available_volunteer  applied_volunteer\n",
       "0      704       Rusko                   63                182\n",
       "1       72    Hailuoto                   61                177\n",
       "2      426      Liperi                   55                169\n",
       "3      886      Ulvila                   59                177\n",
       "4      834     Tammela                   56                178\n",
       "5      687  Rautavaara                   55                181\n",
       "6      504    Myrskylä                   58                176\n",
       "7      783      Säkylä                   49                172"
      ]
     },
     "execution_count": 4,
     "metadata": {},
     "output_type": "execute_result"
    }
   ],
   "source": [
    "sql_volunteers_by_city = \"\"\"\n",
    "SELECT available.city_id, c.\"name\", available_volunteer, applied_volunteer\n",
    "FROM\n",
    "\t(SELECT city_id, COUNT(DISTINCT vr.volunteer_id) as available_volunteer\n",
    "\tFROM volunteer_range vr\n",
    "\tGROUP BY city_id) AS available\n",
    "JOIN\n",
    "\t(SELECT rl.city_id, COUNT(DISTINCT va.volunteer_id) as applied_volunteer\n",
    "\tFROM request_location rl, request r, volunteer_application va\n",
    "\tWHERE rl.request_id = r.id AND r.id = va.request_id AND va.is_valid \n",
    "\tGROUP BY rl.city_id) AS applied\n",
    "ON available.city_id = applied.city_id\n",
    "JOIN city c ON available.city_id = c.id\n",
    "\"\"\"\n",
    "volunteers_by_city_df = pd.read_sql_query(sql_volunteers_by_city, psql_conn)\n",
    "volunteers_by_city_df"
   ]
  },
  {
   "cell_type": "code",
   "execution_count": 5,
   "metadata": {},
   "outputs": [
    {
     "data": {
      "image/png": "[encoded data removed]",
      "text/plain": [
       "<Figure size 640x480 with 1 Axes>"
      ]
     },
     "metadata": {},
     "output_type": "display_data"
    }
   ],
   "source": [
    "num_of_city_range = np.arange(len(volunteers_by_city_df)) \n",
    "  \n",
    "plt.bar(num_of_city_range - 0.2, volunteers_by_city_df['available_volunteer'], 0.4, label = 'Available volunteers') \n",
    "plt.bar(num_of_city_range + 0.2, volunteers_by_city_df['applied_volunteer'], 0.4, label = 'Applied volunteers') \n",
    "\n",
    "plt.xticks(num_of_city_range, volunteers_by_city_df['name'], rotation=-20) \n",
    "plt.ylabel('Number of volunteers') \n",
    "plt.title('Number of volunteers by city ') \n",
    "plt.legend(loc='lower center', bbox_to_anchor=(0.5, -0.3)) \n",
    "plt.show() "
   ]
  },
  {
   "cell_type": "markdown",
   "metadata": {},
   "source": [
    "### Cities with the most and the least volunteers."
   ]
  },
  {
   "cell_type": "markdown",
   "metadata": {},
   "source": [
    "As we can see from the chart and table:\n",
    "\n",
    "- Two cities with most applied volunteers: Rusko and Rautavaara\n",
    "\n",
    "- Two cities with most available volunteers: Rusko and Hailuoto\n",
    "\n",
    "- Two cities with least applied volunteers: Ulvila and Säkylä\n",
    "\n",
    "- Two cities with least available volunteers: Säkylä and Liperi"
   ]
  },
  {
   "cell_type": "markdown",
   "metadata": {},
   "source": [
    "## PART 2"
   ]
  },
  {
   "cell_type": "markdown",
   "metadata": {},
   "source": [
    "### Scoring system to calculate the matching percentage of volunteers."
   ]
  },
  {
   "cell_type": "markdown",
   "metadata": {},
   "source": [
    "##### Criterias:\n",
    "- Skill score (worth 70%): \n",
    "    - **(skill_value+1)** * matched * 100/ sum(**(skill_value+1)**), with matched having value of 0 or 1\n",
    "- Range score (worth 20%): This is the percentage of request's location that is in the volunteer's range\n",
    "\n",
    "- Travel readiness score (worth 5%): The greater the travel-readiness (tr), the smaller the score. The formula will be:\n",
    "    - max(1 - tr/1200, 0)\n",
    "- Interest score (worth 5%): If the interests of the request and volunteer match, he/she will have 100% points. Otherwise, he/she will have 0 point."
   ]
  },
  {
   "cell_type": "code",
   "execution_count": 6,
   "metadata": {},
   "outputs": [],
   "source": [
    "# interest score\n",
    "sql_calculate_skill_score = \"\"\"\n",
    "CREATE OR REPLACE VIEW skill_score AS\n",
    "\tWITH total_value AS (\n",
    "\t\t\tSELECT request_id, SUM(rs.value+1) AS sum_value\n",
    "\t\t\tFROM request_skill rs\n",
    "\t\t\tGROUP BY rs.request_id)\n",
    "\tSELECT tv.request_id, va.volunteer_id, COALESCE(100*SUM(value+1)::NUMERIC/MAX(sum_value)::NUMERIC,0) AS score\n",
    "\tFROM volunteer_application va\n",
    "\tLEFT JOIN total_value tv ON va.request_id = tv.request_id AND va.is_valid\n",
    "\tLEFT JOIN skill_assignment sa ON sa.volunteer_id = va.volunteer_id\n",
    "\tLEFT JOIN request_skill rs ON rs.skill_name = sa.skill_name AND rs.request_id = va.request_id \n",
    "\tGROUP BY tv.request_id, va.volunteer_id;\n",
    "    \"\"\"\n",
    "cursor.execute(sql_calculate_skill_score)"
   ]
  },
  {
   "cell_type": "code",
   "execution_count": 7,
   "metadata": {},
   "outputs": [],
   "source": [
    "# range score\n",
    "sql_calculate_range_score = \"\"\"\n",
    "CREATE OR REPLACE VIEW range_score AS\n",
    "\tWITH location_count AS(\n",
    "\t\tSELECT request_id, COUNT(*) as sum\n",
    "\t\tFROM request_location rl \n",
    "\t\tGROUP BY rl.request_id \n",
    "\t)\n",
    "\tSELECT va.request_id, va.volunteer_id, 100*COUNT(*)/AVG(lc.sum) AS score\n",
    "\tFROM volunteer_application va\n",
    "\tLEFT JOIN request_location rl ON rl.request_id = va.request_id AND is_valid \n",
    "\tLEFT JOIN volunteer_range vr ON vr.volunteer_id = va.volunteer_id AND vr.city_id = rl.city_id\n",
    "\tLEFT JOIN location_count lc ON lc.request_id = va.request_id \n",
    "\tGROUP BY va.request_id, va.volunteer_id;\n",
    "    \"\"\"\n",
    "cursor.execute(sql_calculate_range_score)"
   ]
  },
  {
   "cell_type": "code",
   "execution_count": 8,
   "metadata": {},
   "outputs": [],
   "source": [
    "# travel reainess score\n",
    "sql_calculate_travel_readiness_score = \"\"\"\n",
    "CREATE OR REPLACE VIEW travel_readiness_score AS\n",
    "\tSELECT va.request_id, va.volunteer_id, GREATEST(0, 1-travel_readiness::NUMERIC/1200) AS score\n",
    "\tFROM volunteer_application va\n",
    "\tLEFT JOIN volunteer v ON v.id = va.volunteer_id AND va.is_valid;\n",
    "\"\"\"\n",
    "cursor.execute(sql_calculate_travel_readiness_score)"
   ]
  },
  {
   "cell_type": "code",
   "execution_count": 9,
   "metadata": {},
   "outputs": [],
   "source": [
    "# interest score\n",
    "sql_calculate_interest_score = \"\"\"\n",
    "CREATE OR REPLACE VIEW interest_assignment_corrected AS \n",
    "\tSELECT \n",
    "\t    CASE \n",
    "\t        WHEN ia.interest_name = 'WorkInATeam' THEN 'WorkInTeam' \n",
    "\t        ELSE ia.interest_name \n",
    "\t    END AS interest_name,\n",
    "\t    ia.volunteer_id\n",
    "\tFROM \n",
    "\t    interest_assignment ia;\n",
    "\n",
    "CREATE OR REPLACE VIEW interest_corrected AS\n",
    "\tSELECT\n",
    "\t\tCASE \n",
    "\t        WHEN i.\"name\" = 'WorkInATeam' THEN 'WorkInTeam' \n",
    "\t        ELSE i.\"name\"\n",
    "\t    END AS interest_name \n",
    "\tFROM \n",
    "\t    interest i;\n",
    "\n",
    "CREATE OR REPLACE VIEW interest_score AS\n",
    "\tWITH request_interest AS(\n",
    "\t\tSELECT r.id, ic.interest_name\n",
    "\t\tFROM request r, interest_corrected ic\n",
    "\t\tWHERE ic.interest_name ILIKE SUBSTRING(REPLACE(r.title, ' ', '') FROM 1 FOR POSITION('needed' IN REPLACE(r.title, ' ', '')) - 1)\n",
    "\t\t)\n",
    "\tSELECT va.request_id, va.volunteer_id, COALESCE(iac.interest_name IS NOT NULL :: INT * 100, 0) AS score\n",
    "\tFROM volunteer_application va\n",
    "\tLEFT JOIN request_interest ri ON va.request_id = ri.id\n",
    "\tLEFT JOIN interest_assignment_corrected iac ON iac.interest_name = ri.interest_name AND iac.volunteer_id = va.volunteer_id;\n",
    "    \"\"\"\n",
    "cursor.execute(sql_calculate_interest_score)"
   ]
  },
  {
   "cell_type": "code",
   "execution_count": 10,
   "metadata": {},
   "outputs": [
    {
     "data": {
      "text/html": [
       "<div>\n",
       "<style scoped>\n",
       "    .dataframe tbody tr th:only-of-type {\n",
       "        vertical-align: middle;\n",
       "    }\n",
       "\n",
       "    .dataframe tbody tr th {\n",
       "        vertical-align: top;\n",
       "    }\n",
       "\n",
       "    .dataframe thead th {\n",
       "        text-align: right;\n",
       "    }\n",
       "</style>\n",
       "<table border=\"1\" class=\"dataframe\">\n",
       "  <thead>\n",
       "    <tr style=\"text-align: right;\">\n",
       "      <th></th>\n",
       "      <th>request_id</th>\n",
       "      <th>volunteer_id</th>\n",
       "      <th>final_score</th>\n",
       "    </tr>\n",
       "  </thead>\n",
       "  <tbody>\n",
       "    <tr>\n",
       "      <th>0</th>\n",
       "      <td>1</td>\n",
       "      <td>230283-963X</td>\n",
       "      <td>77.294394</td>\n",
       "    </tr>\n",
       "    <tr>\n",
       "      <th>1</th>\n",
       "      <td>1</td>\n",
       "      <td>211074-9401</td>\n",
       "      <td>44.120617</td>\n",
       "    </tr>\n",
       "    <tr>\n",
       "      <th>2</th>\n",
       "      <td>1</td>\n",
       "      <td>011074-9149</td>\n",
       "      <td>39.121826</td>\n",
       "    </tr>\n",
       "    <tr>\n",
       "      <th>3</th>\n",
       "      <td>1</td>\n",
       "      <td>211099-910H</td>\n",
       "      <td>39.090909</td>\n",
       "    </tr>\n",
       "    <tr>\n",
       "      <th>4</th>\n",
       "      <td>1</td>\n",
       "      <td>250681-919H</td>\n",
       "      <td>32.771189</td>\n",
       "    </tr>\n",
       "    <tr>\n",
       "      <th>8</th>\n",
       "      <td>2</td>\n",
       "      <td>270794-9576</td>\n",
       "      <td>71.784089</td>\n",
       "    </tr>\n",
       "    <tr>\n",
       "      <th>9</th>\n",
       "      <td>2</td>\n",
       "      <td>220782-910B</td>\n",
       "      <td>59.593551</td>\n",
       "    </tr>\n",
       "    <tr>\n",
       "      <th>10</th>\n",
       "      <td>2</td>\n",
       "      <td>190697-999B</td>\n",
       "      <td>58.488969</td>\n",
       "    </tr>\n",
       "    <tr>\n",
       "      <th>11</th>\n",
       "      <td>2</td>\n",
       "      <td>200569-926L</td>\n",
       "      <td>47.436888</td>\n",
       "    </tr>\n",
       "    <tr>\n",
       "      <th>12</th>\n",
       "      <td>2</td>\n",
       "      <td>101003A9918</td>\n",
       "      <td>46.337514</td>\n",
       "    </tr>\n",
       "    <tr>\n",
       "      <th>13</th>\n",
       "      <td>3</td>\n",
       "      <td>190697-999B</td>\n",
       "      <td>95.010708</td>\n",
       "    </tr>\n",
       "    <tr>\n",
       "      <th>14</th>\n",
       "      <td>3</td>\n",
       "      <td>030693-935X</td>\n",
       "      <td>85.333333</td>\n",
       "    </tr>\n",
       "    <tr>\n",
       "      <th>15</th>\n",
       "      <td>3</td>\n",
       "      <td>200958-9326</td>\n",
       "      <td>62.354375</td>\n",
       "    </tr>\n",
       "    <tr>\n",
       "      <th>16</th>\n",
       "      <td>3</td>\n",
       "      <td>100494-989U</td>\n",
       "      <td>62.014792</td>\n",
       "    </tr>\n",
       "    <tr>\n",
       "      <th>17</th>\n",
       "      <td>3</td>\n",
       "      <td>220782-910B</td>\n",
       "      <td>39.028333</td>\n",
       "    </tr>\n",
       "    <tr>\n",
       "      <th>18</th>\n",
       "      <td>4</td>\n",
       "      <td>010573-901K</td>\n",
       "      <td>90.504413</td>\n",
       "    </tr>\n",
       "    <tr>\n",
       "      <th>19</th>\n",
       "      <td>4</td>\n",
       "      <td>231269-913S</td>\n",
       "      <td>76.943692</td>\n",
       "    </tr>\n",
       "    <tr>\n",
       "      <th>20</th>\n",
       "      <td>4</td>\n",
       "      <td>250684-9410</td>\n",
       "      <td>65.206332</td>\n",
       "    </tr>\n",
       "    <tr>\n",
       "      <th>21</th>\n",
       "      <td>4</td>\n",
       "      <td>311267-9044</td>\n",
       "      <td>26.805777</td>\n",
       "    </tr>\n",
       "    <tr>\n",
       "      <th>22</th>\n",
       "      <td>4</td>\n",
       "      <td>100104A910M</td>\n",
       "      <td>25.039083</td>\n",
       "    </tr>\n",
       "  </tbody>\n",
       "</table>\n",
       "</div>"
      ],
      "text/plain": [
       "    request_id volunteer_id  final_score\n",
       "0            1  230283-963X    77.294394\n",
       "1            1  211074-9401    44.120617\n",
       "2            1  011074-9149    39.121826\n",
       "3            1  211099-910H    39.090909\n",
       "4            1  250681-919H    32.771189\n",
       "8            2  270794-9576    71.784089\n",
       "9            2  220782-910B    59.593551\n",
       "10           2  190697-999B    58.488969\n",
       "11           2  200569-926L    47.436888\n",
       "12           2  101003A9918    46.337514\n",
       "13           3  190697-999B    95.010708\n",
       "14           3  030693-935X    85.333333\n",
       "15           3  200958-9326    62.354375\n",
       "16           3  100494-989U    62.014792\n",
       "17           3  220782-910B    39.028333\n",
       "18           4  010573-901K    90.504413\n",
       "19           4  231269-913S    76.943692\n",
       "20           4  250684-9410    65.206332\n",
       "21           4  311267-9044    26.805777\n",
       "22           4  100104A910M    25.039083"
      ]
     },
     "execution_count": 10,
     "metadata": {},
     "output_type": "execute_result"
    }
   ],
   "source": [
    "# final score\n",
    "sql_volunteer_score = \"\"\"\n",
    "SELECT rs.request_id, rs.volunteer_id, isc.score*0.05 + rs.score*0.2 + trs.score*0.05 + ss.score*0.7 AS final_score\n",
    "FROM range_score rs\n",
    "LEFT JOIN skill_score ss ON rs.request_id = ss.request_id AND rs.volunteer_id = ss.volunteer_id\n",
    "LEFT JOIN interest_score isc ON rs.request_id = isc.request_id AND rs.volunteer_id = isc.volunteer_id\n",
    "LEFT JOIN travel_readiness_score trs ON rs.request_id = trs.request_id AND rs.volunteer_id = trs.volunteer_id   \n",
    "ORDER BY request_id, final_score DESC;\n",
    "\"\"\"\n",
    "\n",
    "volunteer_score_df = pd.read_sql_query(sql_volunteer_score, psql_conn)\n",
    "top_five_volunteer = volunteer_score_df.groupby('request_id').apply(lambda x: x.nlargest(5, 'final_score')).droplevel(-2)\n",
    "top_five_volunteer.head(20)\n"
   ]
  },
  {
   "cell_type": "markdown",
   "metadata": {},
   "source": [
    "## PART C"
   ]
  },
  {
   "cell_type": "markdown",
   "metadata": {},
   "source": [
    "### The number of valid volunteer applications and the number of valid requests in each month."
   ]
  },
  {
   "cell_type": "code",
   "execution_count": 11,
   "metadata": {},
   "outputs": [
    {
     "data": {
      "text/html": [
       "<div>\n",
       "<style scoped>\n",
       "    .dataframe tbody tr th:only-of-type {\n",
       "        vertical-align: middle;\n",
       "    }\n",
       "\n",
       "    .dataframe tbody tr th {\n",
       "        vertical-align: top;\n",
       "    }\n",
       "\n",
       "    .dataframe thead th {\n",
       "        text-align: right;\n",
       "    }\n",
       "</style>\n",
       "<table border=\"1\" class=\"dataframe\">\n",
       "  <thead>\n",
       "    <tr style=\"text-align: right;\">\n",
       "      <th></th>\n",
       "      <th>month</th>\n",
       "      <th>request</th>\n",
       "      <th>application</th>\n",
       "      <th>difference</th>\n",
       "    </tr>\n",
       "  </thead>\n",
       "  <tbody>\n",
       "    <tr>\n",
       "      <th>0</th>\n",
       "      <td>1</td>\n",
       "      <td>25</td>\n",
       "      <td>152</td>\n",
       "      <td>127</td>\n",
       "    </tr>\n",
       "    <tr>\n",
       "      <th>1</th>\n",
       "      <td>2</td>\n",
       "      <td>21</td>\n",
       "      <td>147</td>\n",
       "      <td>126</td>\n",
       "    </tr>\n",
       "    <tr>\n",
       "      <th>2</th>\n",
       "      <td>3</td>\n",
       "      <td>29</td>\n",
       "      <td>127</td>\n",
       "      <td>98</td>\n",
       "    </tr>\n",
       "    <tr>\n",
       "      <th>3</th>\n",
       "      <td>4</td>\n",
       "      <td>25</td>\n",
       "      <td>183</td>\n",
       "      <td>158</td>\n",
       "    </tr>\n",
       "    <tr>\n",
       "      <th>4</th>\n",
       "      <td>5</td>\n",
       "      <td>27</td>\n",
       "      <td>217</td>\n",
       "      <td>190</td>\n",
       "    </tr>\n",
       "    <tr>\n",
       "      <th>5</th>\n",
       "      <td>6</td>\n",
       "      <td>45</td>\n",
       "      <td>229</td>\n",
       "      <td>184</td>\n",
       "    </tr>\n",
       "    <tr>\n",
       "      <th>6</th>\n",
       "      <td>7</td>\n",
       "      <td>40</td>\n",
       "      <td>307</td>\n",
       "      <td>267</td>\n",
       "    </tr>\n",
       "    <tr>\n",
       "      <th>7</th>\n",
       "      <td>8</td>\n",
       "      <td>45</td>\n",
       "      <td>238</td>\n",
       "      <td>193</td>\n",
       "    </tr>\n",
       "    <tr>\n",
       "      <th>8</th>\n",
       "      <td>9</td>\n",
       "      <td>44</td>\n",
       "      <td>264</td>\n",
       "      <td>220</td>\n",
       "    </tr>\n",
       "    <tr>\n",
       "      <th>9</th>\n",
       "      <td>10</td>\n",
       "      <td>31</td>\n",
       "      <td>202</td>\n",
       "      <td>171</td>\n",
       "    </tr>\n",
       "    <tr>\n",
       "      <th>10</th>\n",
       "      <td>11</td>\n",
       "      <td>33</td>\n",
       "      <td>222</td>\n",
       "      <td>189</td>\n",
       "    </tr>\n",
       "    <tr>\n",
       "      <th>11</th>\n",
       "      <td>12</td>\n",
       "      <td>37</td>\n",
       "      <td>146</td>\n",
       "      <td>109</td>\n",
       "    </tr>\n",
       "  </tbody>\n",
       "</table>\n",
       "</div>"
      ],
      "text/plain": [
       "    month  request  application  difference\n",
       "0       1       25          152         127\n",
       "1       2       21          147         126\n",
       "2       3       29          127          98\n",
       "3       4       25          183         158\n",
       "4       5       27          217         190\n",
       "5       6       45          229         184\n",
       "6       7       40          307         267\n",
       "7       8       45          238         193\n",
       "8       9       44          264         220\n",
       "9      10       31          202         171\n",
       "10     11       33          222         189\n",
       "11     12       37          146         109"
      ]
     },
     "execution_count": 11,
     "metadata": {},
     "output_type": "execute_result"
    }
   ],
   "source": [
    "sql_request_application_by_month = \"\"\"\n",
    "SELECT m AS month, COUNT(DISTINCT r.id) AS request, COUNT(DISTINCT va.id) AS application\n",
    "FROM generate_series(1, 12) m\n",
    "LEFT JOIN volunteer_application va ON m = EXTRACT(MONTH FROM va.modified) AND is_valid\n",
    "LEFT JOIN request r ON m = EXTRACT(MONTH FROM r.end_date) OR m = EXTRACT(MONTH FROM r.start_date)\n",
    "GROUP BY m\n",
    "\"\"\"\n",
    "\n",
    "request_application_by_month_df = pd.read_sql_query(sql_request_application_by_month, psql_conn)\n",
    "request_application_by_month_df['difference'] = request_application_by_month_df['application'] - request_application_by_month_df['request']\n",
    "request_application_by_month_df"
   ]
  },
  {
   "cell_type": "code",
   "execution_count": 12,
   "metadata": {},
   "outputs": [
    {
     "data": {
      "image/png": "[encoded data removed]",
      "text/plain": [
       "<Figure size 640x480 with 1 Axes>"
      ]
     },
     "metadata": {},
     "output_type": "display_data"
    }
   ],
   "source": [
    "month_list = [\"Jan\", \"Feb\", \"Mar\", \"Apr\", \"May\", \"Jun\", \"Jul\", \"Aug\", \"Sep\", \"Oct\", \"Nov\", \"Dec\"]\n",
    "# 12 means 12 month\n",
    "month_range = np.arange(12)\n",
    "plt.bar(month_range - 0.2, request_application_by_month_df['request'], 0.4, label = 'request') \n",
    "plt.bar(month_range + 0.2, request_application_by_month_df['application'], 0.4, label = 'application') \n",
    "plt.xticks(month_range, month_list) \n",
    "plt.ylabel('Count') \n",
    "plt.xlabel('Month')\n",
    "plt.legend()\n",
    "plt.title('Number of valid volunteer applications and number of valid requests') \n",
    "plt.show()"
   ]
  },
  {
   "cell_type": "markdown",
   "metadata": {},
   "source": [
    "### Months with the most and least volunteers and requests, and the difference between the requests and volunteers for each month."
   ]
  },
  {
   "cell_type": "markdown",
   "metadata": {},
   "source": [
    "As we can see from the plot, July has the most volunteer applications, with 307 applications. June and August have the most volunteer requests, with 45 requests each.\n",
    "\n",
    "The difference between the number of requests and applications ranges from 98 in March to 267 in July, with applications consistently exceeding requests."
   ]
  },
  {
   "cell_type": "markdown",
   "metadata": {},
   "source": [
    "### Trend and correlation"
   ]
  },
  {
   "cell_type": "code",
   "execution_count": 13,
   "metadata": {},
   "outputs": [
    {
     "name": "stdout",
     "output_type": "stream",
     "text": [
      "The correlation between the month and the number of applications from January to July: 0.8939412382878384\n",
      "The correlation between the month and the number of applications from July to December: -0.8037057534208327\n",
      "The correlation between the month and the number of requests: 0.5887239015046365\n"
     ]
    }
   ],
   "source": [
    "print(f\"The correlation between the month and the number of applications from January to July: {request_application_by_month_df['month'].head(7).corr(request_application_by_month_df['application'].head(7))}\")\n",
    "print(f\"The correlation between the month and the number of applications from July to December: {request_application_by_month_df['month'].tail(5).corr(request_application_by_month_df['application'].tail(5))}\")\n",
    "print(f\"The correlation between the month and the number of requests: {request_application_by_month_df['month'].corr(request_application_by_month_df['request'])}\")\n",
    "\n",
    "\n"
   ]
  },
  {
   "cell_type": "markdown",
   "metadata": {},
   "source": [
    "Request Trend: The number of requests increases significantly around mid-year (April to June), peaking around June and August, then declining towards the end of the year and reaching bottom in February.\n",
    "\n",
    "Application Trend: The number of applications starts to rise in March, reaching a pronouced peak in July, then decline and hit bottom around March.\n",
    "\n",
    "The correlation between the month and the number of requests is moderate (0.59). This indicates that the number of requests also tends to change according to the month, but not very strongly. On the other hand, the correlation between the month and the number of applications is stronger.There is a strong positive correlation from January to July (0.89), and a weaker but strong negative correlation in the rest of the year (-0.80).\n"
   ]
  },
  {
   "cell_type": "markdown",
   "metadata": {},
   "source": [
    "## PART D"
   ]
  },
  {
   "cell_type": "markdown",
   "metadata": {},
   "source": [
    "### Calculate the total average duration (in hours) of requests associated with each city."
   ]
  },
  {
   "cell_type": "code",
   "execution_count": 14,
   "metadata": {},
   "outputs": [
    {
     "data": {
      "text/html": [
       "<div>\n",
       "<style scoped>\n",
       "    .dataframe tbody tr th:only-of-type {\n",
       "        vertical-align: middle;\n",
       "    }\n",
       "\n",
       "    .dataframe tbody tr th {\n",
       "        vertical-align: top;\n",
       "    }\n",
       "\n",
       "    .dataframe thead th {\n",
       "        text-align: right;\n",
       "    }\n",
       "</style>\n",
       "<table border=\"1\" class=\"dataframe\">\n",
       "  <thead>\n",
       "    <tr style=\"text-align: right;\">\n",
       "      <th></th>\n",
       "      <th>id</th>\n",
       "      <th>name</th>\n",
       "      <th>total_hours</th>\n",
       "    </tr>\n",
       "  </thead>\n",
       "  <tbody>\n",
       "    <tr>\n",
       "      <th>0</th>\n",
       "      <td>426</td>\n",
       "      <td>Liperi</td>\n",
       "      <td>1223.775000</td>\n",
       "    </tr>\n",
       "    <tr>\n",
       "      <th>1</th>\n",
       "      <td>783</td>\n",
       "      <td>Säkylä</td>\n",
       "      <td>1248.925000</td>\n",
       "    </tr>\n",
       "    <tr>\n",
       "      <th>2</th>\n",
       "      <td>504</td>\n",
       "      <td>Myrskylä</td>\n",
       "      <td>2427.045833</td>\n",
       "    </tr>\n",
       "    <tr>\n",
       "      <th>3</th>\n",
       "      <td>704</td>\n",
       "      <td>Rusko</td>\n",
       "      <td>3711.633333</td>\n",
       "    </tr>\n",
       "    <tr>\n",
       "      <th>4</th>\n",
       "      <td>72</td>\n",
       "      <td>Hailuoto</td>\n",
       "      <td>2235.033333</td>\n",
       "    </tr>\n",
       "    <tr>\n",
       "      <th>5</th>\n",
       "      <td>687</td>\n",
       "      <td>Rautavaara</td>\n",
       "      <td>3086.400000</td>\n",
       "    </tr>\n",
       "    <tr>\n",
       "      <th>6</th>\n",
       "      <td>886</td>\n",
       "      <td>Ulvila</td>\n",
       "      <td>1424.208333</td>\n",
       "    </tr>\n",
       "    <tr>\n",
       "      <th>7</th>\n",
       "      <td>834</td>\n",
       "      <td>Tammela</td>\n",
       "      <td>1947.229167</td>\n",
       "    </tr>\n",
       "  </tbody>\n",
       "</table>\n",
       "</div>"
      ],
      "text/plain": [
       "    id        name  total_hours\n",
       "0  426      Liperi  1223.775000\n",
       "1  783      Säkylä  1248.925000\n",
       "2  504    Myrskylä  2427.045833\n",
       "3  704       Rusko  3711.633333\n",
       "4   72    Hailuoto  2235.033333\n",
       "5  687  Rautavaara  3086.400000\n",
       "6  886      Ulvila  1424.208333\n",
       "7  834     Tammela  1947.229167"
      ]
     },
     "execution_count": 14,
     "metadata": {},
     "output_type": "execute_result"
    }
   ],
   "source": [
    "sql_total_volunteer_hour = \"\"\"\n",
    "WITH request_location_count AS(\n",
    "\tSELECT request_id, COUNT(*) as count\n",
    "\tFROM request_location rl \n",
    "\tGROUP BY request_id)\n",
    "SELECT \n",
    "\tc.id, \n",
    "\tc.\"name\", \n",
    "\tSUM((EXTRACT(DAY FROM r.end_date-r.start_date) * 24.0 + \n",
    "\tEXTRACT(HOUR FROM r.end_date-r.start_date) + \n",
    "\tEXTRACT(MINUTE FROM r.end_date-r.start_date) / 60.0 + \n",
    "\tEXTRACT(SECOND FROM r.end_date-r.start_date) / 3600.0) / count) AS total_hours\n",
    "FROM city c \n",
    "LEFT JOIN request_location rl ON c.id = rl.city_id \n",
    "LEFT JOIN request r ON r.id = rl.request_id \n",
    "LEFT JOIN request_location_count rlc ON rlc.request_id = rl.request_id \n",
    "GROUP BY c.id, c.\"name\"\n",
    "\"\"\"\n",
    "\n",
    "total_volunteer_hour_df = pd.read_sql_query(sql_total_volunteer_hour, psql_conn)\n",
    "total_volunteer_hour_df\n"
   ]
  },
  {
   "cell_type": "code",
   "execution_count": 15,
   "metadata": {},
   "outputs": [
    {
     "data": {
      "image/png": "[encoded data removed]",
      "text/plain": [
       "<Figure size 640x480 with 1 Axes>"
      ]
     },
     "metadata": {},
     "output_type": "display_data"
    }
   ],
   "source": [
    "plt.bar(x=total_volunteer_hour_df['name'],height=total_volunteer_hour_df['total_hours'], width=0.6)\n",
    "plt.xlabel('City')\n",
    "plt.ylabel('Hours')\n",
    "plt.xticks(rotation=-20)\n",
    "plt.title('Total average duration of requests in each cities')\n",
    "plt.show()"
   ]
  },
  {
   "cell_type": "markdown",
   "metadata": {},
   "source": [
    "Among the cities, Rusko has the highest average duration, somewhere above 3500 hours. Rautavaara follows with approximately 3000 hours. Myrskylä and Hailuoto are next, both surpassing 2000 hours. In the next place is Tammela with around 2000 hours and Ulvila with around 1500 hours. Finally, Liperi and Säkylä share the last place with around 1250 hours."
   ]
  }
 ],
 "metadata": {
  "kernelspec": {
   "display_name": "Python 3",
   "language": "python",
   "name": "python3"
  },
  "language_info": {
   "codemirror_mode": {
    "name": "ipython",
    "version": 3
   },
   "file_extension": ".py",
   "mimetype": "text/x-python",
   "name": "python",
   "nbconvert_exporter": "python",
   "pygments_lexer": "ipython3",
   "version": "3.12.1"
  }
 },
 "nbformat": 4,
 "nbformat_minor": 2
}
